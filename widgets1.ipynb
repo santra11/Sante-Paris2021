{
 "cells": [
  {
   "cell_type": "markdown",
   "metadata": {},
   "source": [
    "### Widgets for the Sante App"
   ]
  },
  {
   "cell_type": "code",
   "execution_count": 6,
   "metadata": {},
   "outputs": [],
   "source": [
    "import numpy as np\n",
    "import pandas as pd\n",
    "import seaborn as sns\n",
    "\n",
    "import ipywidgets as widgets\n",
    "from IPython.display import display\n",
    "\n",
    "import matplotlib.pyplot as plt\n",
    "from ipywidgets import interactive\n",
    "\n",
    "%matplotlib inline"
   ]
  },
  {
   "cell_type": "code",
   "execution_count": 7,
   "metadata": {},
   "outputs": [],
   "source": [
    "data = pd.read_csv('food.csv',sep =',')\n",
    "data = data.drop(columns=['ingredients_text', 'serving_size',\n",
    "       'additives_n', 'additives', 'additives_tags', 'additives_fr',\n",
    "       'ingredients_from_palm_oil_n','fat_100g', 'cholesterol_100g', 'vitamin-a_100g',\n",
    "       'ingredients_that_may_be_from_palm_oil_n', 'pnns_groups_1', 'pnns_groups_2', 'states', 'states_tags', 'states_fr',\n",
    "       'main_category', 'main_category_fr', 'saturated-fat_100g', 'trans-fat_100g'])"
   ]
  },
  {
   "cell_type": "markdown",
   "metadata": {},
   "source": [
    "## Figure1"
   ]
  },
  {
   "cell_type": "code",
   "execution_count": 8,
   "metadata": {
    "scrolled": false,
    "tags": [
     "body"
    ]
   },
   "outputs": [
    {
     "data": {
      "application/vnd.jupyter.widget-view+json": {
       "model_id": "48cb0c330a224d46b75920d8c326cbc4",
       "version_major": 2,
       "version_minor": 0
      },
      "text/plain": [
       "interactive(children=(Dropdown(description='x_axis', options=('energy_100g', 'carbohydrates_100g', 'sugars_100…"
      ]
     },
     "metadata": {},
     "output_type": "display_data"
    }
   ],
   "source": [
    "@widgets.interact\n",
    "def scatter_plot(x_axis=list(data.select_dtypes('float').columns), \n",
    "                 y_axis=list(data.select_dtypes('float').columns)[1:]):\n",
    "    sns.scatterplot(x=x_axis, y=y_axis, data=data, hue='nutritiongrade').set_title(f'Scatter plot for {x_axis} vs {y_axis}') "
   ]
  },
  {
   "cell_type": "markdown",
   "metadata": {},
   "source": [
    "## Figure2"
   ]
  },
  {
   "cell_type": "code",
   "execution_count": 9,
   "metadata": {
    "scrolled": true,
    "tags": [
     "body"
    ]
   },
   "outputs": [
    {
     "data": {
      "application/vnd.jupyter.widget-view+json": {
       "model_id": "1c990db075694a7ba500dc445625298b",
       "version_major": 2,
       "version_minor": 0
      },
      "text/plain": [
       "interactive(children=(Dropdown(description='x_axis', options=('energy_100g', 'carbohydrates_100g', 'sugars_100…"
      ]
     },
     "metadata": {},
     "output_type": "display_data"
    }
   ],
   "source": [
    "@widgets.interact\n",
    "def plot(x_axis=data.select_dtypes('float').columns):         \n",
    "    sns.kdeplot(x=x_axis, hue=\"nutritiongrade\", fill=True, data=data).set_title(f'Distribution plot for {x_axis}'); "
   ]
  },
  {
   "cell_type": "code",
   "execution_count": null,
   "metadata": {},
   "outputs": [],
   "source": []
  }
 ],
 "metadata": {
  "celltoolbar": "Tags",
  "kernelspec": {
   "display_name": "Python 3 (ipykernel)",
   "language": "python",
   "name": "python3"
  },
  "language_info": {
   "codemirror_mode": {
    "name": "ipython",
    "version": 3
   },
   "file_extension": ".py",
   "mimetype": "text/x-python",
   "name": "python",
   "nbconvert_exporter": "python",
   "pygments_lexer": "ipython3",
   "version": "3.8.1"
  }
 },
 "nbformat": 4,
 "nbformat_minor": 4
}
